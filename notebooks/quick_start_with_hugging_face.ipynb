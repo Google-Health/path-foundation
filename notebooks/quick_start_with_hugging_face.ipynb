{
  "cells": [
    {
      "cell_type": "markdown",
      "metadata": {
        "id": "QW75OIoNtN1C"
      },
      "source": [
        "~~~\n",
        "Copyright 2024 Google LLC\n",
        "\n",
        "Licensed under the Apache License, Version 2.0 (the \"License\");\n",
        "you may not use this file except in compliance with the License.\n",
        "You may obtain a copy of the License at\n",
        "\n",
        "    https://www.apache.org/licenses/LICENSE-2.0\n",
        "\n",
        "Unless required by applicable law or agreed to in writing, software\n",
        "distributed under the License is distributed on an \"AS IS\" BASIS,\n",
        "WITHOUT WARRANTIES OR CONDITIONS OF ANY KIND, either express or implied.\n",
        "See the License for the specific language governing permissions and\n",
        "limitations under the License.\n",
        "~~~\n",
        "# Quick start with Hugging Face\n",
        "\n",
        "\u003ctable\u003e\u003ctbody\u003e\u003ctr\u003e\n",
        "  \u003ctd style=\"text-align: center\"\u003e\n",
        "    \u003ca href=\"https://colab.research.google.com/github/google-health/path-foundation/blob/master/notebooks/quick_start_with_hugging_face.ipynb\"\u003e\n",
        "      \u003cimg alt=\"Google Colab logo\" src=\"https://www.tensorflow.org/images/colab_logo_32px.png\" width=\"32px\"\u003e\u003cbr\u003e Run in Google Colab\n",
        "    \u003c/a\u003e\n",
        "  \u003c/td\u003e\n",
        "  \u003ctd style=\"text-align: center\"\u003e\n",
        "    \u003ca href=\"https://github.com/google-health/path-foundation/blob/master/notebooks/quick_start_with_hugging_face.ipynb\"\u003e\n",
        "      \u003cimg alt=\"GitHub logo\" src=\"https://github.githubassets.com/assets/GitHub-Mark-ea2971cee799.png\" width=\"32px\"\u003e\u003cbr\u003e View on GitHub\n",
        "    \u003c/a\u003e\n",
        "  \u003c/td\u003e\n",
        "  \u003ctd style=\"text-align: center\"\u003e\n",
        "    \u003ca href=\"https://huggingface.co/google/path-foundation\"\u003e\n",
        "      \u003cimg alt=\"Hugging Face logo\" src=\"https://huggingface.co/front/assets/huggingface_logo-noborder.svg\" width=\"32px\"\u003e\u003cbr\u003e View on Hugging Face\n",
        "    \u003c/a\u003e\n",
        "  \u003c/td\u003e\n",
        "\u003c/tr\u003e\u003c/tbody\u003e\u003c/table\u003e\n",
        "\n",
        "This Colab notebook provides a basic demonstration of the Path Foundation encoder.  Given a pathology image patch, this encoder generates a machine learning representation called an \"embedding\". Learn more about embeddings and their benefits on [this page](https://developers.google.com/health-ai-developer-foundations/path-foundation)."
      ]
    },
    {
      "cell_type": "code",
      "execution_count": null,
      "metadata": {
        "id": "umPIpHAIqGtJ"
      },
      "outputs": [],
      "source": [
        "# @title Authenticate with Hugging Face\n",
        "from huggingface_hub import notebook_login\n",
        "from huggingface_hub.utils import HfFolder\n",
        "\n",
        "if HfFolder.get_token() is None:\n",
        "    from huggingface_hub import notebook_login\n",
        "    notebook_login()"
      ]
    },
    {
      "cell_type": "code",
      "execution_count": null,
      "metadata": {
        "id": "VgMA-MlAEkup"
      },
      "outputs": [],
      "source": [
        "# @title Load test image from Hugging Face\n",
        "\n",
        "from PIL import Image as PILImage\n",
        "from IPython.display import display\n",
        "from huggingface_hub import hf_hub_download\n",
        "\n",
        "# Download the test image from Hugging Face Hub\n",
        "hf_hub_download(repo_id=\"google/path-foundation\", filename='Test.png', local_dir='.')\n",
        "\n",
        "# Open the image, crop it, convert it to RGB format, and display it.\n",
        "img = PILImage.open(\"Test.png\").crop((0, 0, 224, 224)).convert('RGB')\n",
        "display(img)"
      ]
    },
    {
      "cell_type": "code",
      "execution_count": null,
      "metadata": {
        "collapsed": true,
        "id": "48iQhBXdSsMG"
      },
      "outputs": [],
      "source": [
        "# @title Compute Embeddings\n",
        "from huggingface_hub import from_pretrained_keras\n",
        "import matplotlib.pyplot as plt\n",
        "import tensorflow as tf\n",
        "import numpy as np\n",
        "\n",
        "# Convert the image to a Tensor and scale to [0, 1]\n",
        "tensor = tf.cast(tf.expand_dims(np.array(img), axis=0), tf.float32) / 255.0\n",
        "\n",
        "# Load the model directly from Hugging Face\n",
        "loaded_model = from_pretrained_keras(\"google/path-foundation\")\n",
        "\n",
        "# Call inference\n",
        "infer = loaded_model.signatures[\"serving_default\"]\n",
        "embeddings = infer(tf.constant(tensor))\n",
        "\n",
        "# Extract the embedding vector\n",
        "embedding_vector = embeddings['output_0'].numpy().flatten()\n",
        "print(\"Size of embedding vector:\", len(embedding_vector))\n",
        "\n",
        "# Plot the embedding vector\n",
        "plt.figure(figsize=(12, 4))\n",
        "plt.plot(embedding_vector)\n",
        "plt.title('Embedding Vector')\n",
        "plt.xlabel('Index')\n",
        "plt.ylabel('Value')\n",
        "plt.grid(True)\n",
        "plt.show()"
      ]
    },
    {
      "cell_type": "markdown",
      "metadata": {
        "id": "l1WK4BYyoyQj"
      },
      "source": [
        "# Next steps\n",
        "\n",
        " Explore the other [notebooks](https://github.com/google-health/path-foundation/blob/master/notebooks)."
      ]
    }
  ],
  "metadata": {
    "accelerator": "GPU",
    "colab": {
      "gpuType": "T4",
      "private_outputs": true
    },
    "kernelspec": {
      "display_name": "Python 3",
      "name": "python3"
    },
    "language_info": {
      "name": "python"
    }
  },
  "nbformat": 4,
  "nbformat_minor": 0
}
