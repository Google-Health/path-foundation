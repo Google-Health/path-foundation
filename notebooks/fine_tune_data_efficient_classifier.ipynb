{
  "cells": [
    {
      "cell_type": "markdown",
      "metadata": {
        "id": "O5eciEDyU6BP"
      },
      "source": [
        "~~~\n",
        "Copyright 2024 Google LLC\n",
        "\n",
        "Licensed under the Apache License, Version 2.0 (the \"License\");\n",
        "you may not use this file except in compliance with the License.\n",
        "You may obtain a copy of the License at\n",
        "\n",
        "    https://www.apache.org/licenses/LICENSE-2.0\n",
        "\n",
        "Unless required by applicable law or agreed to in writing, software\n",
        "distributed under the License is distributed on an \"AS IS\" BASIS,\n",
        "WITHOUT WARRANTIES OR CONDITIONS OF ANY KIND, either express or implied.\n",
        "See the License for the specific language governing permissions and\n",
        "limitations under the License.\n",
        "~~~\n",
        "\n",
        "\u003ctable\u003e\u003ctbody\u003e\u003ctr\u003e\n",
        "  \u003ctd style=\"text-align: center\"\u003e\n",
        "    \u003ca href=\"https://colab.research.google.com/github/google-health/path-foundation/blob/master/notebooks/fine_tune_data_efficient_classifier_gcs.ipynb\"\u003e\n",
        "      \u003cimg alt=\"Google Colab logo\" src=\"https://www.tensorflow.org/images/colab_logo_32px.png\" width=\"32px\"\u003e\u003cbr\u003e Run in Google Colab\n",
        "    \u003c/a\u003e\n",
        "  \u003c/td\u003e\n",
        "  \u003ctd style=\"text-align: center\"\u003e\n",
        "    \u003ca href=\"https://github.com/google-health/path-foundation/blob/master/notebooks/fine_tune_data_efficient_classifier_gcs.ipynb\"\u003e\n",
        "      \u003cimg alt=\"GitHub logo\" src=\"https://cloud.google.com/ml-engine/images/github-logo-32px.png\" width=\"32px\"\u003e\u003cbr\u003e View on GitHub\n",
        "    \u003c/a\u003e\n",
        "  \u003c/td\u003e\n",
        "  \u003ctd style=\"text-align: center\"\u003e\n",
        "    \u003ca href=\"https://huggingface.co/google/path-foundation\"\u003e\n",
        "      \u003cimg alt=\"HuggingFace logo\" src=\"https://huggingface.co/front/assets/huggingface_logo-noborder.svg\" width=\"32px\"\u003e\u003cbr\u003e View on HuggingFace\n",
        "    \u003c/a\u003e\n",
        "  \u003c/td\u003e\n",
        "  \u003ctd style=\"text-align: center\"\u003e\n",
        "  \u003ca href=\"https://console.cloud.google.com/vertex-ai/colab/import/https:%2F%2Fraw.githubusercontent.com%2Fgoogle-health%2Fcxr-foundation%2Fmaster%2Fnotebooks%2Ffine_tune_data_efficient_classifier.ipynb\"\u003e\n",
        "    \u003cimg alt=\"Google Cloud Colab Enterprise logo\" src=\"https://lh3.googleusercontent.com/JmcxdQi-qOpctIvWKgPtrzZdJJK-J3sWE1RsfjZNwshCFgE_9fULcNpuXYTilIR2hjwN\" width=\"32px\"\u003e\u003cbr\u003e Run in Colab Enterprise\n",
        "  \u003c/a\u003e\n",
        "\u003c/td\u003e\n",
        "\u003c/tr\u003e\u003c/tbody\u003e\u003c/table\u003e\n",
        "\n",
        "\n",
        "# Fine-tuning the Hugging Face Pathology Model for Classification\n",
        "\n",
        "This notebook demonstrates how to fine-tune the Hugging Face `path-foundation` model for binary classification of pathology images. It uses a subset of the [CAMELYON16](https://camelyon16.grand-challenge.org/) dataset (containing lymph node images) to train the model to distinguish between cancerous and benign tissues. The notebook covers the entire workflow: downloading and preparing the dataset, fine-tuning the pre-trained model using TensorFlow and Keras, and finally, evaluating the model's performance on a held-out evaluation set.\n",
        "\n",
        "**Additional details**: For this demo, patches sampled from whole slide images (WSIs) are downloaded from Google Cloud Storage. A subset of the patches will be sampled randomly from across all available slides and be prepared for finetuning.\n",
        "\n",
        "**Dataset**: This notebook uses the [CAMELYON16](https://camelyon16.grand-challenge.org/) dataset, which contains WSIs from lymph node specimens with and without metastatic breast cancer. Any work that uses this dataset should consider additional details along with usage and citation requirements listed on [their website](https://camelyon17.grand-challenge.org/Data/).\n",
        "\n",
        "**Dataset citation**: Babak Ehteshami Bejnordi; Mitko Veta; Paul Johannes van Diest; Bram van Ginneken; Nico Karssemeijer; Geert Litjens; Jeroen A. W. M. van der Laak; and the CAMELYON16 Consortium. Diagnostic Assessment of Deep Learning Algorithms for Detection of Lymph Node Metastases in Women With Breast Cancer. JAMA. 2017;318(22):2199–2210. DOI: 10.1001/jama.2017.14585\n",
        "\n",
        "\u003e **NOTE:** This colab does fine-tuning so it is recommanded to use a colab kernal with a GPU."
      ]
    },
    {
      "cell_type": "code",
      "execution_count": null,
      "metadata": {
        "id": "axippFnR8-iF",
        "colab": {
          "base_uri": "https://localhost:8080/"
        },
        "outputId": "92adb591-3afd-43d9-b88e-b237acba20d7"
      },
      "outputs": [
        {
          "output_type": "stream",
          "name": "stdout",
          "text": [
            "Used secret\n"
          ]
        }
      ],
      "source": [
        "# @title Authenticate with Hugging Face\n",
        "from huggingface_hub.utils import HfFolder\n",
        "\n",
        "if HfFolder.get_token() is None:\n",
        "  from huggingface_hub import notebook_login\n",
        "  notebook_login()\n",
        "else:\n",
        "  print('Token already set.')"
      ]
    },
    {
      "cell_type": "code",
      "source": [
        "# @title Fetch HuggingFace model\n",
        "\n",
        "from huggingface_hub import from_pretrained_keras\n",
        "model_hf = from_pretrained_keras('google/path-foundation', compile=False)"
      ],
      "metadata": {
        "id": "NytAxWHCtJYZ"
      },
      "execution_count": null,
      "outputs": []
    },
    {
      "cell_type": "code",
      "execution_count": null,
      "metadata": {
        "id": "US1lYjpwF6hh"
      },
      "outputs": [],
      "source": [
        "# @title Select a random subset of imaging for training and evaluation, then copy locally\n",
        "%%capture\n",
        "\n",
        "import os\n",
        "import random\n",
        "\n",
        "# Settings for dataset\n",
        "randomize_dataset = \"False\"  # @param [\"True\", \"False\"]\n",
        "TRAINING_SIZE = 32\n",
        "EVAL_SIZE = 24\n",
        "BUCKET_PREFIX = \"gs://healthai-us/\"\n",
        "\n",
        "# Define the commands to fetch and prepare datasets\n",
        "def fetch_file_names(category, division, size):\n",
        "    path = f\"pathology/{division}/{category}\"\n",
        "    !mkdir -p {path}\n",
        "    # Fetch file names using gsutil\n",
        "    full_paths = !gsutil ls {BUCKET_PREFIX}{path}/**\n",
        "    if randomize_dataset:\n",
        "        full_paths = random.sample(full_paths, len(full_paths))\n",
        "    selected_paths = full_paths[:size]\n",
        "    file_urls = ' '.join(selected_paths)\n",
        "    !gsutil -m cp -n {file_urls} {path}\n",
        "    # Select required number of examples and strip the bucket prefix\n",
        "    return [fp.replace(BUCKET_PREFIX, '') for fp in selected_paths]\n",
        "\n",
        "# Collect file paths for each category and division\n",
        "cancer_imaging_training = fetch_file_names('cancer', 'training', TRAINING_SIZE)\n",
        "benign_imaging_training = fetch_file_names('benign', 'training', TRAINING_SIZE)\n",
        "cancer_imaging_eval = fetch_file_names('cancer', 'eval', EVAL_SIZE)\n",
        "benign_imaging_eval = fetch_file_names('benign', 'eval', EVAL_SIZE)\n"
      ]
    },
    {
      "cell_type": "code",
      "source": [
        "# @title Images to model inputs\n",
        "from PIL import Image as PILImage\n",
        "import tensorflow as tf\n",
        "import numpy as np\n",
        "\n",
        "def image_path_to_input_tensor(path):\n",
        "  \"\"\"\n",
        "  Opens an image file, converts it to a TensorFlow tensor, and scales pixel\n",
        "  values to the range [0, 1]. Images in the dataset used in this colab are\n",
        "  already 224x224 pixels. In other cases, you must crop your images to this size\n",
        "  before passing them to the model.\n",
        "  \"\"\"\n",
        "  img = PILImage.open(path).convert('RGB')\n",
        "  return tf.cast(tf.expand_dims(np.array(img), axis=0), tf.float32) / 255.0\n",
        "\n",
        "training_cancer_normalized_images = [\n",
        "    image_path_to_input_tensor(path) for path in cancer_imaging_training]\n",
        "training_benign_normalized_images = [\n",
        "    image_path_to_input_tensor(path) for path in benign_imaging_training]\n",
        "eval_cancer_normalized_images = [\n",
        "    image_path_to_input_tensor(path) for path in cancer_imaging_eval]\n",
        "eval_benign_normalized_images = [\n",
        "    image_path_to_input_tensor(path) for path in benign_imaging_eval]"
      ],
      "metadata": {
        "id": "JYK7QEcOtrOx"
      },
      "execution_count": null,
      "outputs": []
    },
    {
      "cell_type": "code",
      "source": [
        "# @title Finetune HuggingFace model (\u003c1 minute on GPU, ~15 minutes on CPU)\n",
        "\n",
        "import random\n",
        "import tensorflow as tf\n",
        "import numpy as np\n",
        "\n",
        "from tensorflow.keras import Sequential\n",
        "from tensorflow.keras.models import Model\n",
        "from tensorflow.keras.layers import Dense, Layer\n",
        "from tensorflow.keras.optimizers import Adam\n",
        "from tensorflow.keras.utils import to_categorical\n",
        "from tensorflow.keras.callbacks import ReduceLROnPlateau\n",
        "from tensorflow.keras.layers import Dropout\n",
        "from tensorflow.keras.callbacks import EarlyStopping\n",
        "from tensorflow.keras.saving import register_keras_serializable\n",
        "from huggingface_hub import from_pretrained_keras\n",
        "\n",
        "print(\"\"\"\n",
        "  Fine-tuning this model might take a while (\u003c1 minute on GPU, ~15 minutes on CPU), \n",
        "  depending on your Colab runtime's resources. Please be patient.\n",
        "  \"\"\")\n",
        "\n",
        "@register_keras_serializable()\n",
        "class EmbeddingLayer(Layer):\n",
        "  \"\"\"A custom Keras layer that wraps a pre-trained embedding model for fine-tuning.\"\"\"\n",
        "\n",
        "  def __init__(self, model, model_name='google/path-foundation', **kwargs):\n",
        "    \"\"\" Initialize the EmbeddingLayer with a pre-trained model. \"\"\"\n",
        "    super().__init__(**kwargs)\n",
        "    self.embedding_model = model\n",
        "    self.model_name = model_name\n",
        "\n",
        "\n",
        "  @tf.function\n",
        "  def call(self, inputs):\n",
        "    \"\"\" Compute embeddings by passing inputs through the embedding model. \"\"\"\n",
        "    return self.embedding_model(inputs)\n",
        "\n",
        "  def get_config(self):\n",
        "    \"\"\" Return the configuration dictionary of the layer for serialization. \"\"\"\n",
        "    config = super().get_config()\n",
        "    config.update({\n",
        "        'model_name': self.model_name\n",
        "    })\n",
        "    return config\n",
        "\n",
        "  @classmethod\n",
        "  def from_config(cls, config):\n",
        "    \"\"\" Instantiate an EmbeddingLayer from a configuration dictionary. \"\"\"\n",
        "    model_name = config.pop('model_name')\n",
        "    embedding_model = from_pretrained_keras(model_name, compile=False)\n",
        "    return cls(model=embedding_model, model_name=model_name, **config)\n",
        "\n",
        "\n",
        "# Total number of classes for classification.\n",
        "NUM_CLASSES = 2\n",
        "\n",
        "with tf.device('/GPU:0'):\n",
        "    # Wrap the pre-trained model in a custom embedding layer\n",
        "    embedding_layer = EmbeddingLayer(model_hf, name='embedding')\n",
        "\n",
        "    # Add a dense output layer for classification\n",
        "    classification_layer = Dense(NUM_CLASSES, activation='softmax', dtype='float32', name='classification_output')\n",
        "\n",
        "    # Build the new sequential model for pathology image classification,\n",
        "    # consisting of an embedding layer, dropout for regularization, and a classification layer.\n",
        "    new_model = Sequential([embedding_layer, Dropout(0.1), classification_layer], name='path_classifer')\n",
        "\n",
        "    # Combine cancer and benign images into a single training dataset, assigning labels:\n",
        "    # 1 for cancer images, 0 for benign images.\n",
        "    training_images = tf.concat(training_cancer_normalized_images + training_benign_normalized_images, axis=0)\n",
        "    training_labels = tf.constant([1] * len(training_cancer_normalized_images) + [0] * len(training_benign_normalized_images))\n",
        "\n",
        "    # Similarly, prepare evaluation images and labels.\n",
        "    eval_images = tf.concat(eval_cancer_normalized_images + eval_benign_normalized_images, axis=0)\n",
        "    eval_labels = tf.constant([1] * len(eval_cancer_normalized_images) + [0] * len(eval_benign_normalized_images))\n",
        "\n",
        "\n",
        "    # Callbacks:\n",
        "    # - ReduceLROnPlateau lowers the learning rate when val_loss stops improving.\n",
        "    # - EarlyStopping stops training early if val_loss doesn't improve, restoring the best weights.\n",
        "    lr_callback = ReduceLROnPlateau(monitor='val_loss', factor=0.5, patience=2, verbose=1)\n",
        "    early_stopping = EarlyStopping(monitor='val_loss', patience=5, restore_best_weights=True, verbose=1)\n",
        "\n",
        "    # Using a small batch size (8) for more frequent updates and potentially better generalization.\n",
        "    # Starting with a relatively high learning rate (0.05) for the full model,\n",
        "    # but we rely on ReduceLROnPlateau and EarlyStopping to control overfitting and stabilize training.\n",
        "\n",
        "    # Unfreeze the embedding layer and train the entire model to boost performence.\n",
        "    embedding_layer.trainable = True\n",
        "    classification_layer.trainable = True\n",
        "    new_model.compile(optimizer=Adam(learning_rate=0.05), loss='categorical_crossentropy', metrics=['accuracy'])\n",
        "    new_model.fit(\n",
        "        training_images,\n",
        "        to_categorical(training_labels, num_classes=NUM_CLASSES),\n",
        "        epochs=40,\n",
        "        batch_size=8,\n",
        "        validation_data=(\n",
        "            eval_images,\n",
        "            to_categorical(eval_labels, num_classes=NUM_CLASSES)\n",
        "        ),\n",
        "        callbacks=[lr_callback, early_stopping]\n",
        "    )\n",
        "\n",
        "    # Display fine-tuned model details.\n",
        "    new_model.summary()\n",
        "\n",
        "    # Save the fine-tuned model to disk\n",
        "    new_model.save('fine_tuned_model.keras')\n",
        "\n"
      ],
      "metadata": {
        "id": "eVcwaAfNQ2IF",
        "colab": {
          "base_uri": "https://localhost:8080/",
          "height": 658
        },
        "outputId": "0148c628-b077-482b-a6a8-3cfb9d4294e7"
      },
      "execution_count": null,
      "outputs": [
        {
          "output_type": "stream",
          "name": "stdout",
          "text": [
            "\n",
            "  Fine-tuning this model might take a while (\u003c1 minute on GPU, ~15 minutes on CPU),\n",
            "  depending on your Colab runtime's resources. Please be patient.\n",
            "  \n",
            "Epoch 1/40\n",
            "\u001b[1m8/8\u001b[0m \u001b[32m━━━━━━━━━━━━━━━━━━━━\u001b[0m\u001b[37m\u001b[0m \u001b[1m12s\u001b[0m 405ms/step - accuracy: 0.6842 - loss: 3.7341 - val_accuracy: 0.9375 - val_loss: 1.2672 - learning_rate: 0.0500\n",
            "Epoch 2/40\n",
            "\u001b[1m8/8\u001b[0m \u001b[32m━━━━━━━━━━━━━━━━━━━━\u001b[0m\u001b[37m\u001b[0m \u001b[1m0s\u001b[0m 55ms/step - accuracy: 0.9549 - loss: 0.5374 - val_accuracy: 0.8333 - val_loss: 3.3702 - learning_rate: 0.0500\n",
            "Epoch 3/40\n",
            "\u001b[1m7/8\u001b[0m \u001b[32m━━━━━━━━━━━━━━━━━\u001b[0m\u001b[37m━━━\u001b[0m \u001b[1m0s\u001b[0m 29ms/step - accuracy: 0.9682 - loss: 0.3486\n",
            "Epoch 3: ReduceLROnPlateau reducing learning rate to 0.02500000037252903.\n",
            "\u001b[1m8/8\u001b[0m \u001b[32m━━━━━━━━━━━━━━━━━━━━\u001b[0m\u001b[37m\u001b[0m \u001b[1m1s\u001b[0m 55ms/step - accuracy: 0.9614 - loss: 0.4034 - val_accuracy: 0.8542 - val_loss: 5.3358 - learning_rate: 0.0500\n",
            "Epoch 4/40\n",
            "\u001b[1m8/8\u001b[0m \u001b[32m━━━━━━━━━━━━━━━━━━━━\u001b[0m\u001b[37m\u001b[0m \u001b[1m1s\u001b[0m 55ms/step - accuracy: 0.9759 - loss: 0.1372 - val_accuracy: 0.8750 - val_loss: 4.6162 - learning_rate: 0.0250\n",
            "Epoch 5/40\n",
            "\u001b[1m7/8\u001b[0m \u001b[32m━━━━━━━━━━━━━━━━━\u001b[0m\u001b[37m━━━\u001b[0m \u001b[1m0s\u001b[0m 29ms/step - accuracy: 1.0000 - loss: 7.1559e-06\n",
            "Epoch 5: ReduceLROnPlateau reducing learning rate to 0.012500000186264515.\n",
            "\u001b[1m8/8\u001b[0m \u001b[32m━━━━━━━━━━━━━━━━━━━━\u001b[0m\u001b[37m\u001b[0m \u001b[1m1s\u001b[0m 75ms/step - accuracy: 1.0000 - loss: 1.5306e-05 - val_accuracy: 0.8958 - val_loss: 3.6387 - learning_rate: 0.0250\n",
            "Epoch 6/40\n",
            "\u001b[1m8/8\u001b[0m \u001b[32m━━━━━━━━━━━━━━━━━━━━\u001b[0m\u001b[37m\u001b[0m \u001b[1m0s\u001b[0m 54ms/step - accuracy: 0.9744 - loss: 0.0434 - val_accuracy: 0.8750 - val_loss: 3.9051 - learning_rate: 0.0125\n",
            "Epoch 6: early stopping\n",
            "Restoring model weights from the end of the best epoch: 1.\n"
          ]
        },
        {
          "output_type": "display_data",
          "data": {
            "text/plain": [
              "\u001b[1mModel: \"path_classifer\"\u001b[0m\n"
            ],
            "text/html": [
              "\u003cpre style=\"white-space:pre;overflow-x:auto;line-height:normal;font-family:Menlo,'DejaVu Sans Mono',consolas,'Courier New',monospace\"\u003e\u003cspan style=\"font-weight: bold\"\u003eModel: \"path_classifer\"\u003c/span\u003e\n",
              "\u003c/pre\u003e\n"
            ]
          },
          "metadata": {}
        },
        {
          "output_type": "display_data",
          "data": {
            "text/plain": [
              "┏━━━━━━━━━━━━━━━━━━━━━━━━━━━━━━━━━━━━━━┳━━━━━━━━━━━━━━━━━━━━━━━━━━━━━┳━━━━━━━━━━━━━━━━━┓\n",
              "┃\u001b[1m \u001b[0m\u001b[1mLayer (type)                        \u001b[0m\u001b[1m \u001b[0m┃\u001b[1m \u001b[0m\u001b[1mOutput Shape               \u001b[0m\u001b[1m \u001b[0m┃\u001b[1m \u001b[0m\u001b[1m        Param #\u001b[0m\u001b[1m \u001b[0m┃\n",
              "┡━━━━━━━━━━━━━━━━━━━━━━━━━━━━━━━━━━━━━━╇━━━━━━━━━━━━━━━━━━━━━━━━━━━━━╇━━━━━━━━━━━━━━━━━┩\n",
              "│ embedding (\u001b[38;5;33mEmbeddingLayer\u001b[0m)           │ (\u001b[38;5;45mNone\u001b[0m, \u001b[38;5;34m384\u001b[0m)                 │               \u001b[38;5;34m0\u001b[0m │\n",
              "├──────────────────────────────────────┼─────────────────────────────┼─────────────────┤\n",
              "│ dropout_16 (\u001b[38;5;33mDropout\u001b[0m)                 │ (\u001b[38;5;45mNone\u001b[0m, \u001b[38;5;34m384\u001b[0m)                 │               \u001b[38;5;34m0\u001b[0m │\n",
              "├──────────────────────────────────────┼─────────────────────────────┼─────────────────┤\n",
              "│ classification_output (\u001b[38;5;33mDense\u001b[0m)        │ (\u001b[38;5;45mNone\u001b[0m, \u001b[38;5;34m2\u001b[0m)                   │             \u001b[38;5;34m770\u001b[0m │\n",
              "└──────────────────────────────────────┴─────────────────────────────┴─────────────────┘\n"
            ],
            "text/html": [
              "\u003cpre style=\"white-space:pre;overflow-x:auto;line-height:normal;font-family:Menlo,'DejaVu Sans Mono',consolas,'Courier New',monospace\"\u003e┏━━━━━━━━━━━━━━━━━━━━━━━━━━━━━━━━━━━━━━┳━━━━━━━━━━━━━━━━━━━━━━━━━━━━━┳━━━━━━━━━━━━━━━━━┓\n",
              "┃\u003cspan style=\"font-weight: bold\"\u003e Layer (type)                         \u003c/span\u003e┃\u003cspan style=\"font-weight: bold\"\u003e Output Shape                \u003c/span\u003e┃\u003cspan style=\"font-weight: bold\"\u003e         Param # \u003c/span\u003e┃\n",
              "┡━━━━━━━━━━━━━━━━━━━━━━━━━━━━━━━━━━━━━━╇━━━━━━━━━━━━━━━━━━━━━━━━━━━━━╇━━━━━━━━━━━━━━━━━┩\n",
              "│ embedding (\u003cspan style=\"color: #0087ff; text-decoration-color: #0087ff\"\u003eEmbeddingLayer\u003c/span\u003e)           │ (\u003cspan style=\"color: #00d7ff; text-decoration-color: #00d7ff\"\u003eNone\u003c/span\u003e, \u003cspan style=\"color: #00af00; text-decoration-color: #00af00\"\u003e384\u003c/span\u003e)                 │               \u003cspan style=\"color: #00af00; text-decoration-color: #00af00\"\u003e0\u003c/span\u003e │\n",
              "├──────────────────────────────────────┼─────────────────────────────┼─────────────────┤\n",
              "│ dropout_16 (\u003cspan style=\"color: #0087ff; text-decoration-color: #0087ff\"\u003eDropout\u003c/span\u003e)                 │ (\u003cspan style=\"color: #00d7ff; text-decoration-color: #00d7ff\"\u003eNone\u003c/span\u003e, \u003cspan style=\"color: #00af00; text-decoration-color: #00af00\"\u003e384\u003c/span\u003e)                 │               \u003cspan style=\"color: #00af00; text-decoration-color: #00af00\"\u003e0\u003c/span\u003e │\n",
              "├──────────────────────────────────────┼─────────────────────────────┼─────────────────┤\n",
              "│ classification_output (\u003cspan style=\"color: #0087ff; text-decoration-color: #0087ff\"\u003eDense\u003c/span\u003e)        │ (\u003cspan style=\"color: #00d7ff; text-decoration-color: #00d7ff\"\u003eNone\u003c/span\u003e, \u003cspan style=\"color: #00af00; text-decoration-color: #00af00\"\u003e2\u003c/span\u003e)                   │             \u003cspan style=\"color: #00af00; text-decoration-color: #00af00\"\u003e770\u003c/span\u003e │\n",
              "└──────────────────────────────────────┴─────────────────────────────┴─────────────────┘\n",
              "\u003c/pre\u003e\n"
            ]
          },
          "metadata": {}
        },
        {
          "output_type": "display_data",
          "data": {
            "text/plain": [
              "\u001b[1m Total params: \u001b[0m\u001b[38;5;34m2,312\u001b[0m (9.04 KB)\n"
            ],
            "text/html": [
              "\u003cpre style=\"white-space:pre;overflow-x:auto;line-height:normal;font-family:Menlo,'DejaVu Sans Mono',consolas,'Courier New',monospace\"\u003e\u003cspan style=\"font-weight: bold\"\u003e Total params: \u003c/span\u003e\u003cspan style=\"color: #00af00; text-decoration-color: #00af00\"\u003e2,312\u003c/span\u003e (9.04 KB)\n",
              "\u003c/pre\u003e\n"
            ]
          },
          "metadata": {}
        },
        {
          "output_type": "display_data",
          "data": {
            "text/plain": [
              "\u001b[1m Trainable params: \u001b[0m\u001b[38;5;34m770\u001b[0m (3.01 KB)\n"
            ],
            "text/html": [
              "\u003cpre style=\"white-space:pre;overflow-x:auto;line-height:normal;font-family:Menlo,'DejaVu Sans Mono',consolas,'Courier New',monospace\"\u003e\u003cspan style=\"font-weight: bold\"\u003e Trainable params: \u003c/span\u003e\u003cspan style=\"color: #00af00; text-decoration-color: #00af00\"\u003e770\u003c/span\u003e (3.01 KB)\n",
              "\u003c/pre\u003e\n"
            ]
          },
          "metadata": {}
        },
        {
          "output_type": "display_data",
          "data": {
            "text/plain": [
              "\u001b[1m Non-trainable params: \u001b[0m\u001b[38;5;34m0\u001b[0m (0.00 B)\n"
            ],
            "text/html": [
              "\u003cpre style=\"white-space:pre;overflow-x:auto;line-height:normal;font-family:Menlo,'DejaVu Sans Mono',consolas,'Courier New',monospace\"\u003e\u003cspan style=\"font-weight: bold\"\u003e Non-trainable params: \u003c/span\u003e\u003cspan style=\"color: #00af00; text-decoration-color: #00af00\"\u003e0\u003c/span\u003e (0.00 B)\n",
              "\u003c/pre\u003e\n"
            ]
          },
          "metadata": {}
        },
        {
          "output_type": "display_data",
          "data": {
            "text/plain": [
              "\u001b[1m Optimizer params: \u001b[0m\u001b[38;5;34m1,542\u001b[0m (6.03 KB)\n"
            ],
            "text/html": [
              "\u003cpre style=\"white-space:pre;overflow-x:auto;line-height:normal;font-family:Menlo,'DejaVu Sans Mono',consolas,'Courier New',monospace\"\u003e\u003cspan style=\"font-weight: bold\"\u003e Optimizer params: \u003c/span\u003e\u003cspan style=\"color: #00af00; text-decoration-color: #00af00\"\u003e1,542\u003c/span\u003e (6.03 KB)\n",
              "\u003c/pre\u003e\n"
            ]
          },
          "metadata": {}
        }
      ]
    },
    {
      "cell_type": "code",
      "source": [
        "# @title Perform Inference using the Fine-tuned Model\n",
        "\n",
        "# Load the fine-tuned model from disk\n",
        "from tensorflow.keras.models import load_model\n",
        "model_finetuned = load_model('fine_tuned_model.keras', compile=False)\n",
        "\n",
        "np.set_printoptions(formatter={'float_kind': lambda x: \"{:.6f}\".format(x)})\n",
        "\n",
        "eval_predictions = []\n",
        "eval_ground_truth = []\n",
        "\n",
        "print('\\n\\nEach prediction is a probability distribution over [benign, cancer].')\n",
        "print('For example: [0.123, 0.877] means a ~12.3% chance benign and ~87.7% chance cancer.')\n",
        "print('\\n\\nRun prediction for eval set:')\n",
        "\n",
        "print('=== Ground truth: cancer ===')\n",
        "for image in eval_cancer_normalized_images:\n",
        "  prediction = model_finetuned(image).numpy()\n",
        "  eval_predictions.append(prediction[0][1])\n",
        "  eval_ground_truth.append(1)  # 1 for cancer\n",
        "  print('Predictions for [benign, cancer]:', prediction)\n",
        "\n",
        "print('\\n=== Ground truth: benign ===')\n",
        "for image in eval_benign_normalized_images:\n",
        "  prediction = model_finetuned(image).numpy()\n",
        "  eval_predictions.append(prediction[0][1])\n",
        "  eval_ground_truth.append(0)  # 0 for benign\n",
        "  print('Predictions for [benign, cancer]:', prediction)"
      ],
      "metadata": {
        "colab": {
          "base_uri": "https://localhost:8080/"
        },
        "id": "GV7Tr6A-8cJJ",
        "outputId": "946f535c-5edc-4cd9-95b2-6215908b4201"
      },
      "execution_count": null,
      "outputs": [
        {
          "output_type": "stream",
          "name": "stdout",
          "text": [
            "\n",
            "\n",
            "Each prediction is a probability distribution over [benign, cancer].\n",
            "For example: [0.123, 0.877] means a ~12.3% chance benign and ~87.7% chance cancer.\n",
            "\n",
            "\n",
            "Run prediction for eval set:\n",
            "=== Ground truth: cancer ===\n",
            "Predictions for [benign, cancer]: [[0.000018 0.999982]]\n",
            "Predictions for [benign, cancer]: [[0.000000 1.000000]]\n",
            "Predictions for [benign, cancer]: [[0.000000 1.000000]]\n",
            "Predictions for [benign, cancer]: [[0.000000 1.000000]]\n",
            "Predictions for [benign, cancer]: [[0.000000 1.000000]]\n",
            "Predictions for [benign, cancer]: [[0.000183 0.999817]]\n",
            "Predictions for [benign, cancer]: [[0.000000 1.000000]]\n",
            "Predictions for [benign, cancer]: [[0.000000 1.000000]]\n",
            "Predictions for [benign, cancer]: [[0.000000 1.000000]]\n",
            "Predictions for [benign, cancer]: [[0.000009 0.999991]]\n",
            "Predictions for [benign, cancer]: [[0.000000 1.000000]]\n",
            "Predictions for [benign, cancer]: [[0.000000 1.000000]]\n",
            "Predictions for [benign, cancer]: [[0.000000 1.000000]]\n",
            "Predictions for [benign, cancer]: [[0.000000 1.000000]]\n",
            "Predictions for [benign, cancer]: [[0.000000 1.000000]]\n",
            "Predictions for [benign, cancer]: [[0.000000 1.000000]]\n",
            "Predictions for [benign, cancer]: [[0.000000 1.000000]]\n",
            "Predictions for [benign, cancer]: [[0.000000 1.000000]]\n",
            "Predictions for [benign, cancer]: [[0.000000 1.000000]]\n",
            "Predictions for [benign, cancer]: [[0.021162 0.978838]]\n",
            "Predictions for [benign, cancer]: [[0.000000 1.000000]]\n",
            "Predictions for [benign, cancer]: [[0.000000 1.000000]]\n",
            "Predictions for [benign, cancer]: [[0.000000 1.000000]]\n",
            "Predictions for [benign, cancer]: [[0.000000 1.000000]]\n",
            "\n",
            "=== Ground truth: benign ===\n",
            "Predictions for [benign, cancer]: [[1.000000 0.000000]]\n",
            "Predictions for [benign, cancer]: [[1.000000 0.000000]]\n",
            "Predictions for [benign, cancer]: [[1.000000 0.000000]]\n",
            "Predictions for [benign, cancer]: [[1.000000 0.000000]]\n",
            "Predictions for [benign, cancer]: [[1.000000 0.000000]]\n",
            "Predictions for [benign, cancer]: [[1.000000 0.000000]]\n",
            "Predictions for [benign, cancer]: [[0.006934 0.993066]]\n",
            "Predictions for [benign, cancer]: [[1.000000 0.000000]]\n",
            "Predictions for [benign, cancer]: [[0.000000 1.000000]]\n",
            "Predictions for [benign, cancer]: [[1.000000 0.000000]]\n",
            "Predictions for [benign, cancer]: [[1.000000 0.000000]]\n",
            "Predictions for [benign, cancer]: [[1.000000 0.000000]]\n",
            "Predictions for [benign, cancer]: [[1.000000 0.000000]]\n",
            "Predictions for [benign, cancer]: [[0.999986 0.000014]]\n",
            "Predictions for [benign, cancer]: [[1.000000 0.000000]]\n",
            "Predictions for [benign, cancer]: [[1.000000 0.000000]]\n",
            "Predictions for [benign, cancer]: [[1.000000 0.000000]]\n",
            "Predictions for [benign, cancer]: [[0.999993 0.000007]]\n",
            "Predictions for [benign, cancer]: [[1.000000 0.000000]]\n",
            "Predictions for [benign, cancer]: [[1.000000 0.000000]]\n",
            "Predictions for [benign, cancer]: [[1.000000 0.000000]]\n",
            "Predictions for [benign, cancer]: [[1.000000 0.000000]]\n",
            "Predictions for [benign, cancer]: [[1.000000 0.000000]]\n",
            "Predictions for [benign, cancer]: [[1.000000 0.000000]]\n"
          ]
        }
      ]
    },
    {
      "cell_type": "code",
      "source": [
        "# @title Plot AUC graph\n",
        "\n",
        "import matplotlib.pyplot as plt\n",
        "import sklearn.metrics\n",
        "from sklearn.metrics import roc_curve, auc\n",
        "\n",
        "fpr, tpr, thresholds = roc_curve(eval_ground_truth, eval_predictions)\n",
        "roc_auc = auc(fpr, tpr)\n",
        "\n",
        "plt.figure()\n",
        "plt.plot(fpr, tpr, color='darkorange', lw=2, label='ROC curve (area = %0.2f)' % roc_auc)\n",
        "plt.plot([0, 1], [0, 1], color='navy', lw=2, linestyle='--')\n",
        "plt.xlim([0.0, 1.0])\n",
        "plt.ylim([0.0, 1.01])\n",
        "plt.xlabel('False Positive Rate')\n",
        "plt.ylabel('True Positive Rate')\n",
        "plt.title('Receiver operating characteristic example')\n",
        "plt.legend(loc=\"lower right\")\n",
        "plt.show()\n",
        "\n",
        "print('AUC score:',sklearn.metrics.roc_auc_score(eval_ground_truth, eval_predictions))"
      ],
      "metadata": {
        "colab": {
          "base_uri": "https://localhost:8080/",
          "height": 489
        },
        "id": "6UebOVl4zyyl",
        "outputId": "e24de3c1-9780-47e5-a355-5c722e01c0ab"
      },
      "execution_count": 36,
      "outputs": [
        {
          "output_type": "display_data",
          "data": {
            "text/plain": [
              "\u003cFigure size 640x480 with 1 Axes\u003e"
            ],
            "image/png": "[encoded data removed]"
          },
          "metadata": {}
        },
        {
          "output_type": "stream",
          "name": "stdout",
          "text": [
            "AUC score: 0.9739583333333333\n"
          ]
        }
      ]
    },
    {
      "cell_type": "code",
      "source": [
        "import sklearn.metrics\n",
        "import numpy as np\n",
        "\n",
        "# @title Find Youden's index for threshold selection\n",
        "\n",
        "thresholds = np.linspace(0, 1, 100)\n",
        "sensitivities = []\n",
        "specificities = []\n",
        "\n",
        "# Convert eval_ground_truth to a NumPy array\n",
        "eval_ground_truth_array = np.array(eval_ground_truth)\n",
        "\n",
        "# Iterate through thresholds and calculate sensitivity and specificity for each\n",
        "for threshold in thresholds:\n",
        "  predictions = np.array(eval_predictions) \u003e threshold  # Convert predictions to NumPy array\n",
        "  sensitivities.append(sklearn.metrics.recall_score(eval_ground_truth_array, predictions))\n",
        "  specificities.append(\n",
        "      sklearn.metrics.recall_score(eval_ground_truth_array == 0, predictions == 0)\n",
        "  )\n",
        "\n",
        "# Find the index of the maximum Youden's index\n",
        "index = np.argmax(np.array(sensitivities) + np.array(specificities))\n",
        "best_threshold = thresholds[index]\n",
        "sens = sensitivities[index]\n",
        "spec = specificities[index]\n",
        "print(\n",
        "    f\"Best threshold: {round(best_threshold,2)}. Sensitivity is\"\n",
        "    f\" {round(sens*100,2)}% and Specificity is {round(spec*100,2)}% \"\n",
        ")"
      ],
      "metadata": {
        "colab": {
          "base_uri": "https://localhost:8080/"
        },
        "id": "NxzI73MwOQ3B",
        "outputId": "bdc196b1-ccec-4d92-ec03-74cca032694b"
      },
      "execution_count": 39,
      "outputs": [
        {
          "output_type": "stream",
          "name": "stdout",
          "text": [
            "Best threshold: 0.4. Sensitivity is 91.67% and Specificity is 100.0% \n"
          ]
        }
      ]
    },
    {
      "metadata": {
        "id": "IWEcfgttY0zU"
      },
      "cell_type": "markdown",
      "source": [
        "\u003e **NOTE:** This demo randomly samples a subset of patches. Therefore, the exact results will vary from run to run.\n",
        "\n",
        "# Next steps\n",
        "\n",
        " Explore the other [notebooks](https://github.com/google-health/path-foundation/blob/master/notebooks)."
      ]
    }
  ],
  "metadata": {
    "colab": {
      "provenance": []
    },
    "kernelspec": {
      "display_name": "Python 3",
      "name": "python3"
    },
    "language_info": {
      "name": "python"
    }
  },
  "nbformat": 4,
  "nbformat_minor": 0
}
